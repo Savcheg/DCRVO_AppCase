{
 "cells": [
  {
   "cell_type": "code",
   "execution_count": null,
   "metadata": {},
   "outputs": [],
   "source": [
    "import imaplib, email"
   ]
  },
  {
   "cell_type": "code",
   "execution_count": 188,
   "metadata": {},
   "outputs": [],
   "source": [
    "import pymorphy2\n",
    "import re\n",
    "import string\n",
    "import codecs\n",
    "import pandas as pd\n",
    "import codecs"
   ]
  },
  {
   "cell_type": "code",
   "execution_count": 24,
   "metadata": {},
   "outputs": [],
   "source": [
    "import imaplib\n",
    "import email\n",
    "from email.header import decode_header\n",
    "import webbrowser\n",
    "import os"
   ]
  },
  {
   "cell_type": "code",
   "execution_count": 175,
   "metadata": {},
   "outputs": [],
   "source": [
    "from dateutil.parser import parse"
   ]
  },
  {
   "cell_type": "code",
   "execution_count": 197,
   "metadata": {},
   "outputs": [],
   "source": [
    "user = 'vip.vasapupkin10@gmail.com'\n",
    "password = 'fyfyfc2003'\n",
    "imap_url = 'imap.gmail.com'"
   ]
  },
  {
   "cell_type": "code",
   "execution_count": 198,
   "metadata": {},
   "outputs": [
    {
     "data": {
      "text/plain": [
       "('OK', [b'vip.vasapupkin10@gmail.com authenticated (Success)'])"
      ]
     },
     "execution_count": 198,
     "metadata": {},
     "output_type": "execute_result"
    }
   ],
   "source": [
    "con = imaplib.IMAP4_SSL(imap_url)\n",
    "con.login(user,password)\n"
   ]
  },
  {
   "cell_type": "code",
   "execution_count": 113,
   "metadata": {},
   "outputs": [
    {
     "data": {
      "text/plain": [
       "('OK',\n",
       " [b'(\\\\HasNoChildren) \"/\" \"INBOX\"',\n",
       "  b'(\\\\HasChildren \\\\Noselect) \"/\" \"[Gmail]\"',\n",
       "  b'(\\\\HasNoChildren \\\\Important) \"/\" \"[Gmail]/&BBIEMAQ2BD0EPgQ1-\"',\n",
       "  b'(\\\\All \\\\HasNoChildren) \"/\" \"[Gmail]/&BBIEQQRP- &BD8EPgRHBEIEMA-\"',\n",
       "  b'(\\\\HasNoChildren \\\\Trash) \"/\" \"[Gmail]/&BBoEPgRABDcEOAQ9BDA-\"',\n",
       "  b'(\\\\HasNoChildren \\\\Sent) \"/\" \"[Gmail]/&BB4EQgQ,BEAEMAQyBDsENQQ9BD0ESwQ1-\"',\n",
       "  b'(\\\\Flagged \\\\HasNoChildren) \"/\" \"[Gmail]/&BB8EPgQ8BDUERwQ1BD0EPQRLBDU-\"',\n",
       "  b'(\\\\HasNoChildren \\\\Junk) \"/\" \"[Gmail]/&BCEEPwQwBDw-\"',\n",
       "  b'(\\\\Drafts \\\\HasNoChildren) \"/\" \"[Gmail]/&BCcENQRABD0EPgQyBDgEOgQ4-\"'])"
      ]
     },
     "execution_count": 113,
     "metadata": {},
     "output_type": "execute_result"
    }
   ],
   "source": [
    "con.list()\n"
   ]
  },
  {
   "cell_type": "code",
   "execution_count": 15,
   "metadata": {},
   "outputs": [
    {
     "data": {
      "text/plain": [
       "('OK', [b'54'])"
      ]
     },
     "execution_count": 15,
     "metadata": {},
     "output_type": "execute_result"
    }
   ],
   "source": [
    "con.select('INBOX')"
   ]
  },
  {
   "cell_type": "code",
   "execution_count": 16,
   "metadata": {},
   "outputs": [
    {
     "data": {
      "text/plain": [
       "('OK',\n",
       " [b'1 2 3 4 5 6 7 8 9 10 11 12 13 14 15 16 17 18 19 20 21 22 23 24 25 26 27 28 29 30 31 32 33 34 35 36 37 38 39 40 41 42 43 44 45 46 47 48 49 50 51 52 53 54'])"
      ]
     },
     "execution_count": 16,
     "metadata": {},
     "output_type": "execute_result"
    }
   ],
   "source": [
    "con.search(None, 'All')"
   ]
  },
  {
   "cell_type": "code",
   "execution_count": 17,
   "metadata": {},
   "outputs": [
    {
     "data": {
      "text/plain": [
       "('OK',\n",
       " [(b'1 (RFC822 {38558}',\n",
       "   b'Delivered-To: vip.vasapupkin10@gmail.com\\r\\nReceived: by 10.74.153.247 with SMTP id e52csp7067949ooj;\\r\\n        Tue, 26 Dec 2017 23:38:51 -0800 (PST)\\r\\nX-Received: by 10.55.12.2 with SMTP id 2mr36114650qkm.60.1514360330944;\\r\\n        Tue, 26 Dec 2017 23:38:50 -0800 (PST)\\r\\nARC-Seal: i=1; a=rsa-sha256; t=1514360330; cv=none;\\r\\n        d=google.com; s=arc-20160816;\\r\\n        b=Tpgbtxfzt9mInQ9ir0OkabY754ApYw0MecXwZcQEp34wCzjzPYQZgd+6gTMwUumb9u\\r\\n         vYGg6qoNgBFN9mYWTVASsoIlquqUQX6a5d5amQYDVYhklPFMs8uVMU/1X9votv/mDBtm\\r\\n         ZRbrVN+1qTxfok/t5aqKyoQYHTqB29bu3zVDtrW0NsTY/5wdNxJTfBirMyJqRdrw57fp\\r\\n         RjJReZGNV+e1V8cZ3rbrsSAoZI4SJWbX7Ps6iOm8veDjis4/SRMqzcMuRjYfZlmfJO68\\r\\n         Vdiv398GNeh2sLiXBnL0hqtcYT2SvbckmtviJH3zNOLHdYuA0Fbouv+SJYedHtp38G+j\\r\\n         x4Dw==\\r\\nARC-Message-Signature: i=1; a=rsa-sha256; c=relaxed/relaxed; d=google.com; s=arc-20160816;\\r\\n        h=to:from:subject:message-id:feedback-id:reply-to:date:mime-version\\r\\n         :dkim-signature:arc-authentication-results;\\r\\n        bh=2ZXwW2Tszwo3qIV0KXCoUbCsfb6uiiWY/HeL9JxvTIc=;\\r\\n        b=hcjc/dapUoinH+0SP900sTEUyqSsAfCKSyg3uXXA7GMdzQFGAVWJhJVTeGaNThSxN0\\r\\n         LEf8YaCtQoSW2cSyE8RNrQkoB38f2xuQaEYMuLDVN+77/yoQU6GzXqKDcZnqvG7WPmzk\\r\\n         syLNZEw/vCFmTvDeZoDadpvKbSwqsdfCkPPFS5eOJbiqMj6vDFI+3Zti8pmOB3zOm4xc\\r\\n         O5+JtWwrziNyplf3tNZaLgiVOjeRVWy1k5ymGXnHHBBWDnDwMjDfESOq0AwPByFzUHX4\\r\\n         mh4Cy5Nu1vBY3e5wNRgFQwZiMCEJyJEsmegYHGIYy3y0MkNunkXGN3Gj3DYOhOy0Kvm0\\r\\n         2lng==\\r\\nARC-Authentication-Results: i=1; mx.google.com;\\r\\n       dkim=pass header.i=@google.com header.s=20161025 header.b=AZ2mWQKd;\\r\\n       spf=pass (google.com: domain of 3bu5dwhskaiyqyyqvomyww4xs383okw-xy1ozv8qyyqvo.myw@scoutcamp.bounces.google.com designates 209.85.220.69 as permitted sender) smtp.mailfrom=3BU5DWhsKAIYqyyqvomyww4xs383okw-xy1ozv8qyyqvo.myw@scoutcamp.bounces.google.com;\\r\\n       dmarc=pass (p=REJECT sp=REJECT dis=NONE) header.from=google.com\\r\\nReturn-Path: <3BU5DWhsKAIYqyyqvomyww4xs383okw-xy1ozv8qyyqvo.myw@scoutcamp.bounces.google.com>\\r\\nReceived: from mail-sor-f69.google.com (mail-sor-f69.google.com. [209.85.220.69])\\r\\n        by mx.google.com with SMTPS id x4sor22914106qtk.5.2017.12.26.23.38.45\\r\\n        for <vip.vasapupkin10@gmail.com>\\r\\n        (Google Transport Security);\\r\\n        Tue, 26 Dec 2017 23:38:50 -0800 (PST)\\r\\nReceived-SPF: pass (google.com: domain of 3bu5dwhskaiyqyyqvomyww4xs383okw-xy1ozv8qyyqvo.myw@scoutcamp.bounces.google.com designates 209.85.220.69 as permitted sender) client-ip=209.85.220.69;\\r\\nAuthentication-Results: mx.google.com;\\r\\n       dkim=pass header.i=@google.com header.s=20161025 header.b=AZ2mWQKd;\\r\\n       spf=pass (google.com: domain of 3bu5dwhskaiyqyyqvomyww4xs383okw-xy1ozv8qyyqvo.myw@scoutcamp.bounces.google.com designates 209.85.220.69 as permitted sender) smtp.mailfrom=3BU5DWhsKAIYqyyqvomyww4xs383okw-xy1ozv8qyyqvo.myw@scoutcamp.bounces.google.com;\\r\\n       dmarc=pass (p=REJECT sp=REJECT dis=NONE) header.from=google.com\\r\\nDKIM-Signature: v=1; a=rsa-sha256; c=relaxed/relaxed;\\r\\n        d=google.com; s=20161025;\\r\\n        h=mime-version:date:reply-to:feedback-id:message-id:subject:from:to;\\r\\n        bh=2ZXwW2Tszwo3qIV0KXCoUbCsfb6uiiWY/HeL9JxvTIc=;\\r\\n        b=AZ2mWQKdzXj+VKmW/jtQ/kG0WT/Z9o/qfPf4vKgWS1gKUQVYCT7IcZpzei4BLSkaqH\\r\\n         +VOYjQyP1MujaP9Tm8FHV3sWCRXqhM8BT1/dRdOYfcUb7G/5XQQin4xxyeFvZRmIXf6W\\r\\n         Gu/Xxh80E5xTtExd4RJ647mq6zF33q7AofzshZZyx9RFiNAaHaqV2Sa82jbsXjADls8d\\r\\n         53wwHkwvb7BVzP4Hdh01JD9Qd9VaNF41f0kqozDYvpliG3xyrvG8Pw4lXrT2B54GCsbV\\r\\n         OMfrLNnHkgVT9vsL14WAueQMLBhpFvbaJ5YzZ7jEnEu7feQKmTTufhsTww3+Jt14zHj/\\r\\n         K54g==\\r\\nX-Google-DKIM-Signature: v=1; a=rsa-sha256; c=relaxed/relaxed;\\r\\n        d=1e100.net; s=20161025;\\r\\n        h=x-gm-message-state:mime-version:date:reply-to:feedback-id\\r\\n         :message-id:subject:from:to;\\r\\n        bh=2ZXwW2Tszwo3qIV0KXCoUbCsfb6uiiWY/HeL9JxvTIc=;\\r\\n        b=WTPoJClKwtuSjW8pmpFomR/qyOsBg2Mo0X250GjL64VsSm8egPdq8g3iypmWSutrfo\\r\\n         LU+FUZrD66B80g2rVCIMSQtPPTBKH89GjWb6nPzLBvcyvG2Pr0Pjm+Oii4F8wuFQY8kM\\r\\n         9UPyACwLyklNNMAeRDOnKKKrDexDetCyXXBAOdUvN5hkgEDoZeTAULJhe2FMAZTDozNd\\r\\n         CjA4x2J3PpM9xBYWMbfZwq/U2w+Y08y2JA48fw1EwP9jFQ731I2R+gxXBYlAuVZ3+UtU\\r\\n         JdtswmhYCSdm2CVblN6PZyuCas3v99X8N8gJlkIP7fstste4WDd1XPrZwHo7AtmbzVSU\\r\\n         WjOQ==\\r\\nX-Gm-Message-State: AKGB3mJsNvqRVWGLniZq1pOr+dq5Vy3lI1JIy+G6x11/0p5D4H3AVdEv\\r\\n\\tpUjnCPKJo4yUqGo=\\r\\nX-Google-Smtp-Source: ACJfBouEvXpHBdeanxSr49q0ndFCQwaSjsnwynQxk3hTHDiP1QJiu7O3j5uBjKilFqoEHUFOabpxYWg=\\r\\nMIME-Version: 1.0\\r\\nX-Received: by 10.237.39.153 with SMTP id a25mr19974141qtd.0.1514360325730;\\r\\n Tue, 26 Dec 2017 23:38:45 -0800 (PST)\\r\\nDate: Tue, 26 Dec 2017 23:38:45 -0800\\r\\nReply-To: =?UTF-8?B?0JrQvtC80LDQvdC00LAgR29vZ2xl?= <googlecommunityteam-noreply@google.com>\\r\\nX-Google-Id: 24574653\\r\\nFeedback-ID: Lru:D3602017:C770104:gamma\\r\\nX-Notifications: GAMMA:<21df63ef7d489c15.1514360325381.100131464.770104.ru.8da62551d1eb371f@google.com>\\r\\nMessage-ID: <21df63ef7d489c15.1514360325381.100131464.770104.ru.8da62551d1eb371f@google.com>\\r\\nSubject: =?UTF-8?B?0J3QuNC60LjRgtCwLCDQuNGB0L/QvtC70YzQt9GD0LnRgtC1INCy0YHQtSDQstC+0LfQvA==?=\\r\\n\\t=?UTF-8?B?0L7QttC90L7RgdGC0LggQW5kcm9pZA==?=\\r\\nFrom: =?UTF-8?B?0JrQvtC80LDQvdC00LAgR29vZ2xl?= <googlecommunityteam-noreply@google.com>\\r\\nTo: vip.vasapupkin10@gmail.com\\r\\nContent-Type: multipart/alternative; boundary=\"f403045ef06446f25905614d7d18\"\\r\\n\\r\\n--f403045ef06446f25905614d7d18\\r\\nContent-Type: text/plain; charset=\"UTF-8\"; format=flowed; delsp=yes\\r\\nContent-Transfer-Encoding: base64\\r\\n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\\r\\n--f403045ef06446f25905614d7d18\\r\\nContent-Type: text/html; charset=\"UTF-8\"\\r\\nContent-Transfer-Encoding: quoted-printable\\r\\n\\r\\n\\r\\n<!DOCTYPE HTML PUBLIC \"-//W3C//DTD XHTML 1.0 Transitional //EN\" \"http://www=\\r\\n.w3.org/TR/xhtml1/DTD/xhtml1-transitional.dtd\">\\r\\n<html>\\r\\n<head></head>\\r\\n<body>\\r\\n<p>\\r\\n    </p>\\r\\n    <meta http-equiv=3D\"Content-Type\" content=3D\"text/html; charset=3Dutf-8=\\r\\n\">\\r\\n    <meta name=3D\"viewport\" content=3D\"width=3Ddevice-width, initial-scale=\\r\\n=3D1, maximum-scale=3D1\">\\r\\n    <!--<meta name=3D\"viewport\" content=3D\"width=3Ddevice-width, initial-sc=\\r\\nale=3D1.0\"/>\\r\\n    <meta name=3D\"viewport\" content=3D\"target-densitydpi=3Ddevice-dpi\"/> --=\\r\\n>\\r\\n    <title></title>\\r\\n\\r\\n\\r\\n    <style>\\r\\n@media screen{@font-face{font-family:\\'Roboto\\',\\'Open Sans\\';font-style:normal=\\r\\n;font-weight:300;src:local(\\'Open Sans Light\\'),local(\\'OpenSans-Light\\'),url(h=\\r\\nttp://fonts.gstatic.com/s/opensans/v9/DXI1ORHCpsQm3Vp6mXoaTRampu5_7CjHW5spx=\\r\\noeN3Vs.woff2) format(\\'woff2\\'),url(http://fonts.gstatic.com/s/opensans/v9/DX=\\r\\nI1ORHCpsQm3Vp6mXoaTaRDOzjiPcYnFooOUGCOsRk.woff) format(\\'woff\\')}}body{paddin=\\r\\ng:0;margin:0}@media only screen and (max-width:520px){-webkit-text-size-adj=\\r\\nust:100%}\\r\\n</style>\\r\\n<center>\\r\\n<table border=3D\"0\" cellspacing=3D\"0\" cellpadding=3D\"0\" align=3D\"center\" wi=\\r\\ndth=3D\"520\" bgcolor=3D\"#ffffff\" style=3D\"background: #ffffff; max-width: 52=\\r\\n0px; -webkit-font-smoothing: antialiased; -webkit-text-size-adjust: none; -=\\r\\nms-text-size-adjust: 100%;\">\\r\\n  <tr>\\r\\n    <td width=3D\"21\" bgcolor=3D\"#eeeeee\" style=3D\"background: #eeeeee;\"></t=\\r\\nd>\\r\\n  \\t<td width=3D\"480\" style=3D\"-webkit-font-smoothing: antialiased; -webkit-=\\r\\ntext-size-adjust: none; -ms-text-size-adjust: 100%;\">\\r\\n\\t\\t\\t<table border=3D\"0\" cellspacing=3D\"0\" cellpadding=3D\"0\" width=3D\"100%\">\\r\\n\\t\\t\\t\\t<tr>\\r\\n\\t\\t\\t\\t\\t<td height=3D\"21\" bgcolor=3D\"#eeeeee\" style=3D\"background: #eeeeee;\"><=\\r\\n/td>\\r\\n\\t\\t\\t\\t</tr>\\r\\n\\t\\t\\t\\t<tr>\\r\\n\\t\\t\\t\\t\\t<td>\\r\\n  \\t\\t\\t\\t <table border=3D\"0\" cellspacing=3D\"0\" cellpadding=3D\"0\" align=3D\"cen=\\r\\nter\" width=3D\"100%\" style=3D\"border-bottom: 1px solid #eeeeee;\">\\r\\n          =20\\r\\n             <tr>\\r\\n      \\t\\t    <td align=3D\"center\" class=3D\"whom\" style=3D\\'color:#4285f4; fon=\\r\\nt-family:\"Roboto\", OpenSans, \"Open Sans\", Arial, sans-serif; font-size:32px=\\r\\n; font-weight:300; line-height:46px; margin:0; padding:0 15px 0 15px; paddi=\\r\\nng-bottom:20px; padding-top:49px; text-align:center\\'>=D0=97=D0=B4=D1=80=D0=\\r\\n=B0=D0=B2=D1=81=D1=82=D0=B2=D1=83=D0=B9=D1=82=D0=B5, =D0=9D=D0=B8=D0=BA=D0=\\r\\n=B8=D1=82=D0=B0!</td>\\r\\n             </tr>\\r\\n          =20\\r\\n            <tr>\\r\\n      \\t\\t    <td align=3D\"center\" class=3D\"parasec\" style=3D\\'color:#757575; =\\r\\nfont-family:\"Roboto\", OpenSans, \"Open Sans\", Arial, sans-serif; font-size:1=\\r\\n7px; font-weight:300; line-height:24px; margin:0; padding:0 25px 0 25px; pa=\\r\\ndding-bottom:26px; text-align:center\\'>=D0=92=D0=B0=D1=88=D0=B5 =D0=BD=D0=BE=\\r\\n=D0=B2=D0=BE=D0=B5 =D1=83=D1=81=D1=82=D1=80=D0=BE=D0=B9=D1=81=D1=82=D0=B2=\\r\\n=D0=BE Android =D0=B8 <a href=3D\"https://www.google.com/appserve/mkt/p/AIR_=\\r\\nRmFjLGxxEYiv6fP-5PhSzW4p71DGw2Yfu-gFQa4V-0DFkqju3r_Goo2zTkFNmQn-JAVjq-Kv8us=\\r\\n8Z3yXOlfHhR1DjXFtlxl2XXsgT76-XMmqub6os42vupEpT1cnGCO1i0ckp_EyZA-Pre-rgurBTA=\\r\\ncCVbB2yRpv9Q50swo\" target=3D\"_blank\" style=3D\"color:#4285f4; text-decoratio=\\r\\nn:underline; white-space:nowrap\">=D0=B0=D0=BA=D0=BA=D0=B0=D1=83=D0=BD=D1=82=\\r\\n Google</a> =D0=BE=D1=82=D0=BA=D1=80=D1=8B=D0=B2=D0=B0=D1=8E=D1=82 =D0=BF=\\r\\n=D0=B5=D1=80=D0=B5=D0=B4 =D0=92=D0=B0=D0=BC=D0=B8 =D0=BF=D0=BE=D1=82=D1=80=\\r\\n=D1=8F=D1=81=D0=B0=D1=8E=D1=89=D0=B8=D0=B5 =D0=B2=D0=BE=D0=B7=D0=BC=D0=BE=\\r\\n=D0=B6=D0=BD=D0=BE=D1=81=D1=82=D0=B8. =D0=9D=D0=B5 =D1=83=D0=BF=D1=83=D1=81=\\r\\n=D1=82=D0=B8=D1=82=D0=B5 =D0=B8=D1=85!</td>\\r\\n             </tr>\\r\\n                            =20\\r\\n  \\t\\t\\t\\t </table>\\r\\n\\t\\t\\t\\t\\t</td>\\r\\n\\t\\t\\t\\t</tr>\\r\\n        <tr>\\r\\n          <td>\\r\\n            <table border=3D\"0\" cellspacing=3D\"0\" cellpadding=3D\"0\" align=\\r\\n=3D\"center\" width=3D\"100%\" style=3D\"border-bottom: 1px solid #eeeeee;\">\\r\\n            <tr>\\r\\n      \\t\\t    <td height=3D\"32\"></td>\\r\\n             </tr>\\r\\n             <tr>\\r\\n      \\t\\t    <td align=3D\"center\">\\r\\n              <a href=3D\"https://www.google.com/appserve/mkt/p/AIR_RmHb8edd=\\r\\nZB3BTqhFT60wDA6EVYaDb-qKpqQoQr4ad45qouzxu7DdKpi-DfakP_yxe1YHs2PQcwOcnNWzjS0=\\r\\nrhT1rLu_hXwBwUxHNmX89JXah7At6m0idj_pE9FyknBxuXCzMN3UzYToTvZ1WmejZf13eWz-lER=\\r\\nvbmw0CNw\" target=3D\"_blank\" style=3D\"color:#4285f4; text-decoration:underli=\\r\\nne\">\\r\\n             <img width=3D\"64\" border=3D\"0\" src=3D\"https://services.google.=\\r\\ncom/fh/files/emails/owe-new_play_store_64dp.png\" alt=3D\"Play\">\\r\\n              </a>\\r\\n              </td>\\r\\n             </tr>\\r\\n             <tr>\\r\\n      \\t\\t    <td height=3D\"19\"></td>\\r\\n             </tr>\\r\\n             <tr>\\r\\n      \\t\\t    <td align=3D\"center\" class=3D\"paraheading\" style=3D\\'color:#7575=\\r\\n75; font-family:\"Roboto\", OpenSans, \"Open Sans\", Arial, sans-serif; font-si=\\r\\nze:24px; font-weight:300; line-height:33px; margin:0; padding:0 15px 0 15px=\\r\\n; padding-bottom:6px; text-align:center\\'>=D0=92=D0=B5=D1=81=D1=8C =D1=81=D0=\\r\\n=BF=D0=B5=D0=BA=D1=82=D1=80 =D1=80=D0=B0=D0=B7=D0=B2=D0=BB=D0=B5=D1=87=D0=\\r\\n=B5=D0=BD=D0=B8=D0=B9</td>\\r\\n             </tr>\\r\\n                          <tr>\\r\\n               <td align=3D\"center\" class=3D\"para\" style=3D\\'color:#757575; =\\r\\nfont-family:\"Roboto\", OpenSans, \"Open Sans\", Arial, sans-serif; font-size:1=\\r\\n7px; font-weight:300; line-height:24px; margin:0; padding:0 25px 0 25px; te=\\r\\nxt-align:center\\'>\\r\\n               =D0=A1=D0=BA=D0=B0=D1=87=D0=B8=D0=B2=D0=B0=D0=B9=D1=82=D0=B5=\\r\\n =D0=BF=D1=80=D0=B8=D0=BB=D0=BE=D0=B6=D0=B5=D0=BD=D0=B8=D1=8F, =D0=B8=D0=B3=\\r\\n=D1=80=D1=8B, =D0=BC=D1=83=D0=B7=D1=8B=D0=BA=D1=83 =D0=B8 =D0=B4=D1=80=D1=\\r\\n=83=D0=B3=D0=BE=D0=B9 =D0=BA=D0=BE=D0=BD=D1=82=D0=B5=D0=BD=D1=82 =D0=B8=D0=\\r\\n=B7 <a href=3D\"https://www.google.com/appserve/mkt/p/AIR_RmHw5Vr_5pOuBxfz45=\\r\\nv1NjcGBIsRugC4i0YalfqdPnMXM7K2jpvMbi58yANCC6U_TmUar_Wch3CYZI0aFC1Cuunsvop-z=\\r\\nfRWfCY8loRkacLm8DMv7dpc9xJNFRLaSVX5UCMmCAgOjMXfUTXYQhZjcsN11kt76NedTTGGnpQ\"=\\r\\n target=3D\"_blank\" style=3D\"color:#4285f4; text-decoration:underline; white=\\r\\n-space:nowrap\">Google Play</a>.\\r\\n               </td>\\r\\n             </tr>\\r\\n             <tr>\\r\\n              <td height=3D\"26\"></td>\\r\\n             </tr>\\r\\n      </table>\\r\\n          </td>\\r\\n        </tr>\\r\\n        <tr>\\r\\n          <td>\\r\\n            <table border=3D\"0\" cellspacing=3D\"0\" cellpadding=3D\"0\" align=\\r\\n=3D\"center\" width=3D\"100%\" style=3D\"border-bottom: 1px solid #eeeeee;\">\\r\\n            <tr>\\r\\n        \\t    <td height=3D\"32\"></td>\\r\\n             </tr>\\r\\n             <tr>\\r\\n      \\t\\t    <td align=3D\"center\">\\r\\n        <table border=3D\"0\" cellspacing=3D\"0\" cellpadding=3D\"0\" align=3D\"ce=\\r\\nnter\" width=3D\"100%\" style=3D\"width: 100%;\">\\r\\n                  <tbody>\\r\\n<tr>\\r\\n                    <td align=3D\"center\">\\r\\n                   <a href=3D\"https://www.google.com/appserve/mkt/p/AIR_RmH=\\r\\nU5awaZb7NRo6aSTTI9LBDmJN_Zs2lpZb-MopbtC8aEVbx2UclDv4wz5kHP0e8bV3koide5NsdJ7=\\r\\nRVHcUNuukzgjkUX9NE2NgTRBy881ljcG5YeKjDU8jIryFH7sgrD1DVBZE7G3cF1UU6UViZHPbTL=\\r\\nlVkVQ1atraHoeQeYa931TyO8oQfhhc9YNGgSlpS1qrG8jdMoMzCiIPrDTTJWRYxG_Gz0N8O0yaP=\\r\\n_T8BN0nR4pK0PZ-j\" target=3D\"_blank\" style=3D\"color:#4285f4; text-decoration=\\r\\n:underline\">\\r\\n                      <img width=3D\"80\" height=3D\"80\" border=3D\"0\" src=3D\"h=\\r\\nttps://services.google.com/fh/files/emails/gsa_logo.jpg\" alt=3D\"Google Sear=\\r\\nch\" style=3D\"width:80px; height: 80px; text-align: center; border-top-style=\\r\\n: none; border-right-style: none; border-bottom-style: none; border-left-st=\\r\\nyle: none;\">\\r\\n                      </a>=20\\r\\n                    </td>\\r\\n                  </tr> =20\\r\\n                </tbody>\\r\\n</table>\\r\\n              </td>\\r\\n             </tr>\\r\\n             <tr>\\r\\n      \\t\\t    <td height=3D\"21\"></td>\\r\\n             </tr>\\r\\n             <tr>\\r\\n      \\t\\t    <td align=3D\"center\" class=3D\"paraheading\" style=3D\\'color:#7575=\\r\\n75; font-family:\"Roboto\", OpenSans, \"Open Sans\", Arial, sans-serif; font-si=\\r\\nze:24px; font-weight:300; line-height:33px; margin:0; padding:0 15px 0 15px=\\r\\n; padding-bottom:6px; text-align:center\\'>=D0=9B=D1=83=D1=87=D1=88=D0=B5=D0=\\r\\n=B5 =D0=BE=D1=82 Google</td>\\r\\n             </tr>\\r\\n             <tr>\\r\\n               <td align=3D\"center\" class=3D\"para\" style=3D\\'color:#757575; =\\r\\nfont-family:\"Roboto\", OpenSans, \"Open Sans\", Arial, sans-serif; font-size:1=\\r\\n7px; font-weight:300; line-height:24px; margin:0; padding:0 25px 0 25px; te=\\r\\nxt-align:center\\'>\\r\\n               =D0=97=D0=B0=D0=B4=D0=B0=D0=B2=D0=B0=D0=B9=D1=82=D0=B5 Googl=\\r\\ne =D0=B2=D0=BE=D0=BF=D1=80=D0=BE=D1=81=D1=8B =D0=B8 =D0=BF=D1=80=D0=BE=D1=\\r\\n=81=D0=B8=D1=82=D0=B5 =D0=B2=D1=8B=D0=BF=D0=BE=D0=BB=D0=BD=D0=B8=D1=82=D1=\\r\\n=8C =D0=B7=D0=B0=D0=B4=D0=B0=D1=87=D0=B8. =D0=9F=D0=BE=D0=BB=D1=83=D1=87=D0=\\r\\n=B0=D0=B9=D1=82=D0=B5 =D0=BF=D0=BE=D0=B4=D1=81=D0=BA=D0=B0=D0=B7=D0=BA=D0=\\r\\n=B8 Google=C2=A0Now =D0=BE =D0=BF=D0=BE=D0=B3=D0=BE=D0=B4=D0=B5, =D0=BF=D1=\\r\\n=80=D0=BE=D0=B1=D0=BA=D0=B0=D1=85 =D0=B8 =D1=80=D0=B0=D0=B7=D0=BB=D0=B8=D1=\\r\\n=87=D0=BD=D1=8B=D1=85 =D1=81=D0=BE=D0=B1=D1=8B=D1=82=D0=B8=D1=8F=D1=85 =D0=\\r\\n=B2 =D1=81=D0=B0=D0=BC=D1=8B=D0=B9 =D0=BD=D1=83=D0=B6=D0=BD=D1=8B=D0=B9 =D0=\\r\\n=BC=D0=BE=D0=BC=D0=B5=D0=BD=D1=82.\\r\\n =D0=A3=D0=B7=D0=BD=D0=B0=D0=B9=D1=82=D0=B5 =D0=BF=D0=BE=D0=B4=D1=80=D0=BE=\\r\\n=D0=B1=D0=BD=D0=B5=D0=B5 =D0=BE =D1=82=D0=BE=D0=BC, <a href=3D\"https://www.=\\r\\ngoogle.com/appserve/mkt/p/AIR_RmFNmy8Jfd4MxB7xZK98zutdYft14VVPj_BBqROEReka1=\\r\\nca-oP34E2KXzWKpODbOE-1--pAtGSnCH3Eu3ej4fjj5jAjAlNSKkZbdEVeVN8GAVXreXNdUUEPr=\\r\\n8WgylRg1UZvcrPuR9q08NCVOTQ438TJMpfvF8PIB6QZbWqKUdro7ZavsKw\" target=3D\"_blan=\\r\\nk\" style=3D\"color:#4285f4; text-decoration:underline\">=D1=87=D1=82=D0=BE =\\r\\n=D0=BC=D0=BE=D0=B6=D0=B5=D1=82 Google</a>.\\r\\n            </td>\\r\\n             </tr>\\r\\n            <tr>\\r\\n              <td height=3D\"20\"></td>\\r\\n             </tr>\\r\\n            =20\\r\\n            =20\\r\\n              <tr>\\r\\n               <td align=3D\"center\" class=3D\"para\" style=3D\\'color:#757575; =\\r\\nfont-family:\"Roboto\", OpenSans, \"Open Sans\", Arial, sans-serif; font-size:1=\\r\\n7px; font-weight:300; line-height:24px; margin:0; padding:0 25px 0 25px; te=\\r\\nxt-align:center\\'>\\r\\n                  <a href=3D\"https://www.google.com/appserve/mkt/p/AIR_RmEC=\\r\\nCw0MAN2_A8_ZQ7O_J1BKWbbA0Rvz12BYK0_fs6QvpfmYlABy6vILmJDt6k_sIaciHyTXLDwIbnh=\\r\\nOTjSM1CyUEKzDSj2NOm7-bnwCp--eYCd0hVdJX_zntS6QDoSAHtmJJbXmn3NRyLHIFI9nTCDALW=\\r\\nkqIb0JvwT_6G3JMAEEAInzXdkFJ0Hj1rpS5CnwFfOoOtRPQtQH9qMyGiY7Jpv5QFtBrIeBqxGjm=\\r\\nLpsMCwuyh4HzgQ\" target=3D\"_blank\" style=3D\"color:#4285f4; text-decoration:u=\\r\\nnderline\"> =D0=9F=D0=9E=D0=9F=D0=A0=D0=9E=D0=91=D0=9E=D0=92=D0=90=D0=A2=D0=\\r\\n=AC</a>\\r\\n                </td>\\r\\n               </tr>\\r\\n            =20\\r\\n            =20\\r\\n             <tr>\\r\\n               <td align=3D\"center\" class=3D\"baselink\" style=3D\\'color:#4285=\\r\\nf4; font-family:\"Roboto\", OpenSans, \"Open Sans\", Arial, sans-serif; font-si=\\r\\nze:18px; font-weight:300; line-height:39px; margin:0; padding:0 15px 0 15px=\\r\\n; text-align:center\\'>\\r\\n             =20\\r\\n               </td>\\r\\n             </tr>\\r\\n             <tr>\\r\\n        \\t    <td height=3D\"28\"></td>\\r\\n             </tr>\\r\\n           </table>\\r\\n          </td>\\r\\n        </tr>\\r\\n        <tr>\\r\\n          <td>\\r\\n            <table border=3D\"0\" cellspacing=3D\"0\" cellpadding=3D\"0\" align=\\r\\n=3D\"center\" width=3D\"100%\" style=3D\"border-bottom: 1px solid #eeeeee;\">\\r\\n            <tr>\\r\\n              <td height=3D\"32\"></td>\\r\\n             </tr>\\r\\n             <tr>\\r\\n        \\t    <td align=3D\"center\">\\r\\n              <a href=3D\"https://www.google.com/appserve/mkt/p/AIR_RmG8ydpD=\\r\\nTxbYlDMrq27EO23MacchUAKwmtqowd3jsM038grolKfichOl-jrCQ9MfsI96FLBOhENN4Yuwumj=\\r\\nKh8nTVDF3TnzQLtxXOzhNrYEZbWfel5nLwPX374gFqSx1N5o300OknqsINaGNosDOqqJat8HqLO=\\r\\n7vBvQClIYj\" target=3D\"_blank\" style=3D\"color:#4285f4; text-decoration:under=\\r\\nline\">\\r\\n             <img width=3D\"60\" height=3D\"77\" src=3D\"https://services.google=\\r\\n.com/fh/files/emails/shield_logo_150_rt.png\" alt=3D\"=D0=93=D0=B0=D1=80=D0=\\r\\n=B0=D0=BD=D1=82=D0=B8=D1=8F =D0=BD=D0=B0=D0=B4=D0=B5=D0=B6=D0=BD=D0=BE=D1=\\r\\n=81=D1=82=D0=B8\" border=3D\"0\" style=3D\"width: 60px; height: 77px; text-alig=\\r\\nn: center; border: none;\">\\r\\n              </a>\\r\\n              </td>\\r\\n             =20\\r\\n             </tr>\\r\\n             <tr>\\r\\n      \\t\\t    <td height=3D\"21\"></td>\\r\\n             </tr>\\r\\n             <tr>\\r\\n      \\t\\t    <td align=3D\"center\" class=3D\"paraheading\" style=3D\\'color:#7575=\\r\\n75; font-family:\"Roboto\", OpenSans, \"Open Sans\", Arial, sans-serif; font-si=\\r\\nze:24px; font-weight:300; line-height:33px; margin:0; padding:0 15px 0 15px=\\r\\n; padding-bottom:5px; text-align:center\\'>=D0=92=D1=8B=D0=B1=D0=BE=D1=80 =D0=\\r\\n=B7=D0=B0 =D0=92=D0=B0=D0=BC=D0=B8</td>\\r\\n             </tr>\\r\\n            =20\\r\\n             <tr>\\r\\n               <td align=3D\"center\" class=3D\"para_spcl\" style=3D\\'color:#757=\\r\\n575; font-family:\"Roboto\", OpenSans, \"Open Sans\", Arial, sans-serif; font-s=\\r\\nize:17px; font-weight:300; line-height:24px; margin:0; padding:0 20px 0 20p=\\r\\nx; text-align:center\\'>=D0=9D=D0=B0=D1=81=D1=82=D1=80=D0=BE=D0=B9=D1=82=D0=\\r\\n=B5 =D0=B0=D0=BA=D0=BA=D0=B0=D1=83=D0=BD=D1=82 =D1=82=D0=B0=D0=BA, =D0=BA=\\r\\n=D0=B0=D0=BA =D1=83=D0=B4=D0=BE=D0=B1=D0=BD=D0=BE =D0=92=D0=B0=D0=BC. =D0=\\r\\n=9F=D0=B0=D1=80=D0=B0=D0=BC=D0=B5=D1=82=D1=80=D1=8B =D0=B1=D0=B5=D0=B7=D0=\\r\\n=BE=D0=BF=D0=B0=D1=81=D0=BD=D0=BE=D1=81=D1=82=D0=B8 =D0=B8 =D0=BA=D0=BE=D0=\\r\\n=BD=D1=84=D0=B8=D0=B4=D0=B5=D0=BD=D1=86=D0=B8=D0=B0=D0=BB=D1=8C=D0=BD=D0=BE=\\r\\n=D1=81=D1=82=D0=B8 =D0=B2=D1=81=D0=B5=D0=B3=D0=B4=D0=B0 =D0=BC=D0=BE=D0=B6=\\r\\n=D0=BD=D0=BE =D0=B8=D0=B7=D0=BC=D0=B5=D0=BD=D0=B8=D1=82=D1=8C =D0=BD=D0=B0 =\\r\\n=D1=81=D1=82=D1=80=D0=B0=D0=BD=D0=B8=D1=86=D0=B5 <a href=3D\"https://www.goo=\\r\\ngle.com/appserve/mkt/p/AIR_RmEgDux8iLR3CA9_7STomlZbX_lUnOXgFNG2RzsCI-IplLts=\\r\\nS3hhKgvLt1v-PhjwczozWJeIsCzCfD0pd-SJT-c4bliJYirq8WBIOqMP8Po0yYMAhLCvqWOvpQU=\\r\\njMuXLn-iDFUPrINQ4rNr6ogMz0mY37rxSlHWr1xvP_a8v\" target=3D\"_blank\" style=3D\"c=\\r\\nolor:#4285f4; text-decoration:underline; white-space:nowrap\">=D0=9C=D0=BE=\\r\\n=D0=B9 =D0=B0=D0=BA=D0=BA=D0=B0=D1=83=D0=BD=D1=82</a>.</td>\\r\\n             </tr>\\r\\n             <tr>\\r\\n        \\t    <td height=3D\"26\"></td>\\r\\n             </tr>\\r\\n           </table>\\r\\n          </td>\\r\\n        </tr>\\r\\n        <tr>\\r\\n          <td>\\r\\n            <table border=3D\"0\" cellspacing=3D\"0\" cellpadding=3D\"0\" align=\\r\\n=3D\"center\" width=3D\"100%\">\\r\\n            <tr>\\r\\n              <td height=3D\"27\"></td>\\r\\n             </tr>\\r\\n             <tr>\\r\\n              <td align=3D\"center\" class=3D\"parasec\" style=3D\\'color:#757575=\\r\\n; font-family:\"Roboto\", OpenSans, \"Open Sans\", Arial, sans-serif; font-size=\\r\\n:17px; font-weight:300; line-height:24px; margin:0; padding:0 25px 0 25px; =\\r\\npadding-bottom:21px; text-align:center\\'>                                   =\\r\\n                                                                           =\\r\\n                                                                           =\\r\\n                                                                           =\\r\\n                                                                           =\\r\\n                                                  =20\\r\\n              =20\\r\\n=D0=9D=D0=B5 =D0=BE=D1=82=D0=B2=D0=B5=D1=87=D0=B0=D0=B9=D1=82=D0=B5 =D0=BD=\\r\\n=D0=B0 =D1=8D=D1=82=D0=BE =D1=81=D0=BE=D0=BE=D0=B1=D1=89=D0=B5=D0=BD=D0=B8=\\r\\n=D0=B5. =D0=95=D1=81=D0=BB=D0=B8 =D1=83 =D0=92=D0=B0=D1=81 =D0=B5=D1=81=D1=\\r\\n=82=D1=8C =D0=B2=D0=BE=D0=BF=D1=80=D0=BE=D1=81 =D0=BE =D0=BD=D0=BE=D0=B2=D0=\\r\\n=BE=D0=BC =D0=B0=D0=BA=D0=BA=D0=B0=D1=83=D0=BD=D1=82=D0=B5, =D0=BF=D0=BE=D0=\\r\\n=BF=D1=80=D0=BE=D0=B1=D1=83=D0=B9=D1=82=D0=B5 =D0=BD=D0=B0=D0=B9=D1=82=D0=\\r\\n=B8 =D0=BE=D1=82=D0=B2=D0=B5=D1=82 =D0=B2 <a href=3D\"https://www.google.com=\\r\\n/appserve/mkt/p/AIR_RmHeVd3bWaFWD3X5016v77cxkMq7ge0Eh1tYbMrlgGN5cVtAScu2np1=\\r\\nb08_4WfGWURdd5lelwmWwghELA9C7gWczhMG-OwP5PqvwxpS5k4CltmY7ZO5_Ix2i8QN1r7Tbu_=\\r\\nsJ1lRgGMcXb7NDn3jlG4IuL9Fx8QhU98AFiw\" target=3D\"_blank\" style=3D\"color:#428=\\r\\n5f4; text-decoration:underline; white-space:nowrap\">=D0=A1=D0=BF=D1=80=D0=\\r\\n=B0=D0=B2=D0=BE=D1=87=D0=BD=D0=BE=D0=BC =D1=86=D0=B5=D0=BD=D1=82=D1=80=D0=\\r\\n=B5</a>.\\r\\n </td>\\r\\n</tr>\\r\\n                        <tr>\\r\\n      \\t\\t    <td align=3D\"center\" class=3D\"parasec\" style=3D\\'color:#757575; =\\r\\nfont-family:\"Roboto\", OpenSans, \"Open Sans\", Arial, sans-serif; font-size:1=\\r\\n7px; font-weight:300; line-height:24px; margin:0; padding:0 25px 0 25px; te=\\r\\nxt-align:center\\'>=D0=9D=D0=B0=D0=B4=D0=B5=D0=B5=D0=BC=D1=81=D1=8F, =D0=92=\\r\\n=D0=B0=D0=BC =D0=BF=D0=BE=D0=BD=D1=80=D0=B0=D0=B2=D0=B8=D1=82=D1=81=D1=8F =\\r\\n=D0=BD=D0=BE=D0=B2=D0=BE=D0=B5 =D1=83=D1=81=D1=82=D1=80=D0=BE=D0=B9=D1=81=\\r\\n=D1=82=D0=B2=D0=BE Android!<br>=D0=9A=D0=BE=D0=BC=D0=B0=D0=BD=D0=B4=D0=B0 G=\\r\\noogle</td>\\r\\n             </tr>\\r\\n                         <tr>\\r\\n              <td height=3D\"30\"></td>\\r\\n             </tr>\\r\\n             <tr>\\r\\n               <td align=3D\"center\">\\r\\n               <a href=3D\"https://www.google.com/appserve/mkt/p/AIR_RmHhg1F=\\r\\nvf3SkUd40U9Ui8pFRSGL4qTD4S21kQQpx6naqgF3R0-fDcnbr_oPBHiRaD59tjf-cKwPUiW4jtf=\\r\\nnnLX-v5pPhuAO9DB3c9LgRvgtl0MwAh3jBKylWS-6q5ibagDLOvmi99X_ToH4hEehs5UVYEz0\" =\\r\\ntarget=3D\"_blank\" style=3D\"color:#4285f4; text-decoration:underline\">\\r\\n               <img width=3D\"134\" height=3D\"46\" border=3D\"0\" src=3D\"https:/=\\r\\n/services.google.com/fh/files/emails/google_log_new.png\" alt=3D\"Google\" sty=\\r\\nle=3D\"width: 134px; height: 46px; text-align: center; border: none;\">\\r\\n               </a>\\r\\n               </td>\\r\\n             </tr>\\r\\n             <tr>\\r\\n              <td height=3D\"25\"></td>\\r\\n             </tr>\\r\\n             <tr>\\r\\n              <td align=3D\"center\">\\r\\n                <table border=3D\"0\" cellspacing=3D\"0\" cellpadding=3D\"0\" ali=\\r\\ngn=3D\"center\" width=3D\"405\" class=3D\"strip\" style=3D\"padding-left:4px;\">=20\\r\\n                  <tr>\\r\\n                    <td width=3D\"32\" class=3D\"prod-icon\" style=3D\"margin:0;=\\r\\n padding:0 0 0 0\">\\r\\n                      <a href=3D\"https://www.google.com/appserve/mkt/p/AIR_=\\r\\nRmHZtXgtgKBtEz6jRwcv3xSlekL4AMnZfm_BvxyvlaT0p1IhVKkLQUjraf-tWhUlMJWjHdAG5O3=\\r\\n7OLvzJ9_vQ90J4wXnz9TxlVTWUffk4TCrYQ43L-b7pa0_eRZs9bZTEivSCEvcg7bE6CeD4RiG3f=\\r\\nrlIk4s\" target=3D\"_blank\" style=3D\"color:#4285f4; text-decoration:underline=\\r\\n\">\\r\\n                        <img width=3D\"32\" border=3D\"0\" src=3D\"https://servi=\\r\\nces.google.com/fh/files/emails/owe_googleg_32dp.png\" alt=3D\"Google Search\" =\\r\\nstyle=3D\"width: 32px; text-align: center; border: none;\">\\r\\n                      </a>\\r\\n                    </td>\\r\\n                    <td width=3D\"20\" style=3D\"margin:0; padding:0\"></td>\\r\\n                    <td width=3D\"32\" class=3D\"prod-icon\" style=3D\"margin:0;=\\r\\n padding:0 0 0 0\">\\r\\n                    <a href=3D\"https://www.google.com/appserve/mkt/p/AIR_Rm=\\r\\nEfS-So5jJ76Os71DUBNtbvVLYLQzuNk60iFu9ni_wJBYAqgUZH18OFsM5ma6HJzxS9ffXs2i-0U=\\r\\nAgX-3UM7Cwe0NS0IC_8vB-O008FXkO_bIYQy_clcVyZXvPLmOWkLPSYzRp5BC6vaL1JqZhA18YE=\\r\\nNmjI0-KzJ6cXLhg\" target=3D\"_blank\" style=3D\"color:#4285f4; text-decoration:=\\r\\nunderline\">\\r\\n                    <img width=3D\"32\" border=3D\"0\" src=3D\"https://services.=\\r\\ngoogle.com/fh/files/emails/owe-new_gmail_32dp.png\" alt=3D\"Gmail\">\\r\\n                      </a>\\r\\n                    </td>\\r\\n                    <td width=3D\"18\" style=3D\"margin:0; padding:0\"></td>\\r\\n                    <td width=3D\"32\" class=3D\"prod-icon\" style=3D\"margin:0;=\\r\\n padding:0 0 0 0\">\\r\\n                    <a href=3D\"https://www.google.com/appserve/mkt/p/AIR_Rm=\\r\\nFs8pHUAakcYicDrE3xU-ISd_S_vUsTC8EyPwQ7R8pmCOffAqFo87CFkYMaVsKAiJkUsZaQhh2UC=\\r\\nKrLBGYE3jqvzdLx7Y3BADHsDpWHy3PpYzWIe75HDMiRK1mBHNBOrbbghqX0TBDTi4Usb3xDkV1K=\\r\\nzTXAefc\" target=3D\"_blank\" style=3D\"color:#4285f4; text-decoration:underlin=\\r\\ne\">\\r\\n                    <img width=3D\"32\" border=3D\"0\" src=3D\"https://services.=\\r\\ngoogle.com/fh/files/emails/owe_maps_32dp.png\" alt=3D\"Maps\" style=3D\"width: =\\r\\n32px; text-align: center; border: none;\">\\r\\n                      </a>\\r\\n                    </td>\\r\\n                   =20\\r\\n                    <td width=3D\"22\" style=3D\"margin:0; padding:0\"></td>\\r\\n                    <td width=3D\"32\" class=3D\"prod-icon\" style=3D\"margin:0;=\\r\\n padding:0 0 0 0\">\\r\\n                    <a href=3D\"https://www.google.com/appserve/mkt/p/AIR_Rm=\\r\\nFMT0Z3tXCfje3mtoAWNypDarLPJ95tr3slthZace49CLBhmyndfYheyi1eS8xaQ27GTEna0_XqL=\\r\\n4ZEITl7QcdLaGWWfnvF-9FajCuQJawgT312i-sj1oCme9brK23zgLOYM4RhPNzsw7g\" target=\\r\\n=3D\"_blank\" style=3D\"color:#4285f4; text-decoration:underline\">\\r\\n                    <img width=3D\"32\" border=3D\"0\" src=3D\"https://services.=\\r\\ngoogle.com/fh/files/emails/owe_youtube_32dp.png\" alt=3D\"YouTube\" style=3D\"w=\\r\\nidth: 32px; text-align: center; border: none;\">\\r\\n                      </a>\\r\\n                    </td>\\r\\n                   =20\\r\\n                    <td width=3D\"22\" style=3D\"margin:0; padding:0\"></td>\\r\\n                    <td width=3D\"32\" class=3D\"prod-icon\" style=3D\"margin:0;=\\r\\n padding:0 0 0 0\">\\r\\n                    <a href=3D\"https://www.google.com/appserve/mkt/p/AIR_Rm=\\r\\nHBjvwpWcX3ZYrPWN666NJgOCi0A52MRe6GxYMev1-AE_GLTcZZoiT5EZqte9sSEzCj6uQIj-wcz=\\r\\nzMcXiEPIm5GSuWdkrE9hG5SDMK3AJqf26Zoz9Y7KtcJ5qjIougW0QSo6ZF4a-Zn2Q8Vef6Z\" ta=\\r\\nrget=3D\"_blank\" style=3D\"color:#4285f4; text-decoration:underline\">\\r\\n                    <img width=3D\"32\" border=3D\"0\" src=3D\"https://services.=\\r\\ngoogle.com/fh/files/emails/owe_drive_32dp.png\" alt=3D\"Drive\" style=3D\"width=\\r\\n: 32px; text-align: center; border: none;\">\\r\\n                      </a>\\r\\n                    </td>\\r\\n                   =20\\r\\n                    <td width=3D\"17\" style=3D\"margin:0; padding:0\"></td>\\r\\n                    <td width=3D\"32\" class=3D\"prod-icon\" style=3D\"margin:0;=\\r\\n padding:0 0 0 0\">\\r\\n                    <a href=3D\"https://www.google.com/appserve/mkt/p/AIR_Rm=\\r\\nGMnCgzxpSD89-Bi8yo2KoRIdnGFoOC6VXmeEIPpn7UVV53bpAPzmEMTjN6d4l63oG55vERZYlrZ=\\r\\nYYWkm546aBxxpmnktvyXVzandlzpOB9Xec-BJZMrswsENkcGVWgJqKhDjGLMdyucNyuLKAkwH-t=\\r\\nAYvS8JA\" target=3D\"_blank\" style=3D\"color:#4285f4; text-decoration:underlin=\\r\\ne\">\\r\\n                      <img width=3D\"32\" border=3D\"0\" src=3D\"https://service=\\r\\ns.google.com/fh/files/emails/owe_photos_32dp.png\" alt=3D\"Photos\" style=3D\"w=\\r\\nidth: 32px; text-align: center; border: none;\">=20\\r\\n                    </a>\\r\\n                    </td>=20\\r\\n                   =20\\r\\n                    <td width=3D\"16\" style=3D\"margin:0; padding:0\"></td>\\r\\n                    <td width=3D\"32\" class=3D\"prod-icon\" style=3D\"margin:0;=\\r\\n padding:0 0 0 0\">\\r\\n                      <a href=3D\"https://www.google.com/appserve/mkt/p/AIR_=\\r\\nRmEvMXBBG9Fsjec0a7mKunwBCRnuyjIFNUDzFAz4mNr7bbRUisF93ZvbzpTwX3HGpVvos62x4yD=\\r\\nKjLvpNADq6Nb1qOIibp8psusZPSISsRX_4z3tc-3X_dM58kohwJNwXYvY1_I0aOEb356tDz0JQq=\\r\\nRmCUHETrdBLcGdK-E\" target=3D\"_blank\" style=3D\"color:#4285f4; text-decoratio=\\r\\nn:underline\">\\r\\n                        <img width=3D\"32\" border=3D\"0\" src=3D\"https://servi=\\r\\nces.google.com/fh/files/emails/owe_play_32dp.png\" alt=3D\"Play\" style=3D\"wid=\\r\\nth: 32px; text-align: center; border: none;\">=20\\r\\n                      </a>\\r\\n                    </td>\\r\\n                     <td width=3D\"18\" style=3D\"margin:0; padding:0\"></td>\\r\\n                    <td width=3D\"32\" class=3D\"prod-icon\" style=3D\"margin:0;=\\r\\n padding:0 0 0 0\">\\r\\n                      <a href=3D\"https://www.google.com/appserve/mkt/p/AIR_=\\r\\nRmHC2-ufqCpWehl2C6Oc9acvDQ7aNV__A-3L2_TymjBk6hmybyM0XzvSIcSi2enn-pKyZQ7l2_u=\\r\\nVz8Wok3KFCpQPEBIwgrBAveBiGmkAI9GaonLGYl9oA5v83tYeSCBPIUZOw9xGvZxrOPatkfwjgG=\\r\\n1uZRM7\" target=3D\"_blank\" style=3D\"color:#4285f4; text-decoration:underline=\\r\\n\">\\r\\n                       <img width=3D\"32\" border=3D\"0\" src=3D\"https://servic=\\r\\nes.google.com/fh/files/emails/owe_chrome_32dp.png\" alt=3D\"Chrome\" style=3D\"=\\r\\nwidth: 32px;text-align: center; border: none;\">\\r\\n                      </a>\\r\\n                    </td>\\r\\n                  </tr>\\r\\n                </table>\\r\\n              </td>\\r\\n             </tr>\\r\\n             <tr>\\r\\n  \\t\\t\\t\\t<td height=3D\"26\"></td>\\r\\n\\t\\t\\t\\t</tr>\\r\\n        <tr>\\r\\n          <td height=3D\"16\" bgcolor=3D\"#eeeeee\" style=3D\"background: #eeeee=\\r\\ne;\"></td>\\r\\n          </tr>\\r\\n             <tr>\\r\\n             <td class=3D\"footer\" valign=3D\"middle\" style=3D\\'background:#ee=\\r\\neeee; color:#777777; font-family:\"Roboto\", OpenSans, \"Open Sans\", Arial, sa=\\r\\nns-serif; font-size:10px; font-weight:300; line-height:14px; margin:0; padd=\\r\\ning:0 6px 0 6px; text-align:center\\' align=3D\"center\">\\r\\n                =C2=A9 2017 Google LLC 1600 Amphitheatre Parkway, Mountain =\\r\\nView, CA 94043<br>=D0=92=D1=8B =D0=BF=D0=BE=D0=BB=D1=83=D1=87=D0=B8=D0=BB=\\r\\n=D0=B8 =D1=8D=D1=82=D0=BE =D1=81=D0=BE=D0=BE=D0=B1=D1=89=D0=B5=D0=BD=D0=B8=\\r\\n=D0=B5, =D1=82=D0=B0=D0=BA =D0=BA=D0=B0=D0=BA =D1=81=D0=BE=D0=B7=D0=B4=D0=\\r\\n=B0=D0=BB=D0=B8 =D0=B0=D0=BA=D0=BA=D0=B0=D1=83=D0=BD=D1=82 Google.\\r\\n            </td>\\r\\n             </tr>\\r\\n           </table>\\r\\n          </td>\\r\\n        </tr>\\r\\n       =20\\r\\n\\t\\t\\t\\t<tr>\\r\\n\\t\\t\\t\\t\\t<td height=3D\"20\" bgcolor=3D\"#eeeeee\" style=3D\"background: #eeeeee;\"><=\\r\\n/td>\\r\\n\\t\\t\\t\\t</tr>\\r\\n\\t\\t\\t</table>\\r\\n\\t\\t</td>\\r\\n\\t\\t<td width=3D\"21\" bgcolor=3D\"#eeeeee\" style=3D\"background: #eeeeee;\"></td>\\r\\n\\t</tr>\\r\\n</table>\\r\\n<div style=3D\"display:none; white-space:nowrap; font:15px courier; line-hei=\\r\\nght:0;\">\\r\\n&nbsp; &nbsp; &nbsp; &nbsp; &nbsp; &nbsp;&nbsp; &nbsp; &nbsp; &nbsp; &nbsp;=\\r\\n &nbsp; &nbsp; &nbsp; &nbsp;\\r\\n&nbsp; &nbsp; &nbsp; &nbsp; &nbsp; &nbsp; &nbsp; &nbsp; &nbsp; &nbsp; &nbsp=\\r\\n; &nbsp; &nbsp; &nbsp; &nbsp;\\r\\n</div>\\r\\n</center>\\r\\n<img height=3D\"1\" src=3D\"https://www.google.com/appserve/mkt/img/AIR_RmHjs3=\\r\\nYF93BE6jfyFOlIQK5U2TJjsUkRHv-8P0BRhnc.gif\" width=3D\"3\">\\r\\n\\r\\n</body>\\r\\n</html>\\r\\n\\r\\n--f403045ef06446f25905614d7d18--\\r\\n'),\n",
       "  b' FLAGS (\\\\Seen))'])"
      ]
     },
     "execution_count": 17,
     "metadata": {},
     "output_type": "execute_result"
    }
   ],
   "source": [
    "con.fetch(b'1','RFC822')"
   ]
  },
  {
   "cell_type": "code",
   "execution_count": 114,
   "metadata": {},
   "outputs": [
    {
     "ename": "error",
     "evalue": "command FETCH illegal in state AUTH, only allowed in states SELECTED",
     "output_type": "error",
     "traceback": [
      "\u001b[1;31m---------------------------------------------------------------------------\u001b[0m",
      "\u001b[1;31merror\u001b[0m                                     Traceback (most recent call last)",
      "\u001b[1;32m<ipython-input-114-2f674ab7b96f>\u001b[0m in \u001b[0;36m<module>\u001b[1;34m\u001b[0m\n\u001b[1;32m----> 1\u001b[1;33m \u001b[0mstatus\u001b[0m\u001b[1;33m,\u001b[0m \u001b[0mdata\u001b[0m \u001b[1;33m=\u001b[0m \u001b[0mcon\u001b[0m\u001b[1;33m.\u001b[0m\u001b[0mfetch\u001b[0m\u001b[1;33m(\u001b[0m\u001b[1;34mb'1'\u001b[0m\u001b[1;33m,\u001b[0m\u001b[1;34m'RFC822'\u001b[0m\u001b[1;33m)\u001b[0m\u001b[1;33m\u001b[0m\u001b[1;33m\u001b[0m\u001b[0m\n\u001b[0m",
      "\u001b[1;32mD:\\Users\\Gf63 8rd\\Anaconda3\\lib\\imaplib.py\u001b[0m in \u001b[0;36mfetch\u001b[1;34m(self, message_set, message_parts)\u001b[0m\n\u001b[0;32m    532\u001b[0m         \"\"\"\n\u001b[0;32m    533\u001b[0m         \u001b[0mname\u001b[0m \u001b[1;33m=\u001b[0m \u001b[1;34m'FETCH'\u001b[0m\u001b[1;33m\u001b[0m\u001b[1;33m\u001b[0m\u001b[0m\n\u001b[1;32m--> 534\u001b[1;33m         \u001b[0mtyp\u001b[0m\u001b[1;33m,\u001b[0m \u001b[0mdat\u001b[0m \u001b[1;33m=\u001b[0m \u001b[0mself\u001b[0m\u001b[1;33m.\u001b[0m\u001b[0m_simple_command\u001b[0m\u001b[1;33m(\u001b[0m\u001b[0mname\u001b[0m\u001b[1;33m,\u001b[0m \u001b[0mmessage_set\u001b[0m\u001b[1;33m,\u001b[0m \u001b[0mmessage_parts\u001b[0m\u001b[1;33m)\u001b[0m\u001b[1;33m\u001b[0m\u001b[1;33m\u001b[0m\u001b[0m\n\u001b[0m\u001b[0;32m    535\u001b[0m         \u001b[1;32mreturn\u001b[0m \u001b[0mself\u001b[0m\u001b[1;33m.\u001b[0m\u001b[0m_untagged_response\u001b[0m\u001b[1;33m(\u001b[0m\u001b[0mtyp\u001b[0m\u001b[1;33m,\u001b[0m \u001b[0mdat\u001b[0m\u001b[1;33m,\u001b[0m \u001b[0mname\u001b[0m\u001b[1;33m)\u001b[0m\u001b[1;33m\u001b[0m\u001b[1;33m\u001b[0m\u001b[0m\n\u001b[0;32m    536\u001b[0m \u001b[1;33m\u001b[0m\u001b[0m\n",
      "\u001b[1;32mD:\\Users\\Gf63 8rd\\Anaconda3\\lib\\imaplib.py\u001b[0m in \u001b[0;36m_simple_command\u001b[1;34m(self, name, *args)\u001b[0m\n\u001b[0;32m   1194\u001b[0m     \u001b[1;32mdef\u001b[0m \u001b[0m_simple_command\u001b[0m\u001b[1;33m(\u001b[0m\u001b[0mself\u001b[0m\u001b[1;33m,\u001b[0m \u001b[0mname\u001b[0m\u001b[1;33m,\u001b[0m \u001b[1;33m*\u001b[0m\u001b[0margs\u001b[0m\u001b[1;33m)\u001b[0m\u001b[1;33m:\u001b[0m\u001b[1;33m\u001b[0m\u001b[1;33m\u001b[0m\u001b[0m\n\u001b[0;32m   1195\u001b[0m \u001b[1;33m\u001b[0m\u001b[0m\n\u001b[1;32m-> 1196\u001b[1;33m         \u001b[1;32mreturn\u001b[0m \u001b[0mself\u001b[0m\u001b[1;33m.\u001b[0m\u001b[0m_command_complete\u001b[0m\u001b[1;33m(\u001b[0m\u001b[0mname\u001b[0m\u001b[1;33m,\u001b[0m \u001b[0mself\u001b[0m\u001b[1;33m.\u001b[0m\u001b[0m_command\u001b[0m\u001b[1;33m(\u001b[0m\u001b[0mname\u001b[0m\u001b[1;33m,\u001b[0m \u001b[1;33m*\u001b[0m\u001b[0margs\u001b[0m\u001b[1;33m)\u001b[0m\u001b[1;33m)\u001b[0m\u001b[1;33m\u001b[0m\u001b[1;33m\u001b[0m\u001b[0m\n\u001b[0m\u001b[0;32m   1197\u001b[0m \u001b[1;33m\u001b[0m\u001b[0m\n\u001b[0;32m   1198\u001b[0m \u001b[1;33m\u001b[0m\u001b[0m\n",
      "\u001b[1;32mD:\\Users\\Gf63 8rd\\Anaconda3\\lib\\imaplib.py\u001b[0m in \u001b[0;36m_command\u001b[1;34m(self, name, *args)\u001b[0m\n\u001b[0;32m    942\u001b[0m                              \u001b[1;34m\"only allowed in states %s\"\u001b[0m \u001b[1;33m%\u001b[0m\u001b[1;33m\u001b[0m\u001b[1;33m\u001b[0m\u001b[0m\n\u001b[0;32m    943\u001b[0m                              (name, self.state,\n\u001b[1;32m--> 944\u001b[1;33m                               ', '.join(Commands[name])))\n\u001b[0m\u001b[0;32m    945\u001b[0m \u001b[1;33m\u001b[0m\u001b[0m\n\u001b[0;32m    946\u001b[0m         \u001b[1;32mfor\u001b[0m \u001b[0mtyp\u001b[0m \u001b[1;32min\u001b[0m \u001b[1;33m(\u001b[0m\u001b[1;34m'OK'\u001b[0m\u001b[1;33m,\u001b[0m \u001b[1;34m'NO'\u001b[0m\u001b[1;33m,\u001b[0m \u001b[1;34m'BAD'\u001b[0m\u001b[1;33m)\u001b[0m\u001b[1;33m:\u001b[0m\u001b[1;33m\u001b[0m\u001b[1;33m\u001b[0m\u001b[0m\n",
      "\u001b[1;31merror\u001b[0m: command FETCH illegal in state AUTH, only allowed in states SELECTED"
     ]
    }
   ],
   "source": [
    "status, data = con.fetch(b'1','RFC822')\n"
   ]
  },
  {
   "cell_type": "code",
   "execution_count": 22,
   "metadata": {},
   "outputs": [
    {
     "data": {
      "text/plain": [
       "<email.message.EmailMessage at 0x1761099e248>"
      ]
     },
     "execution_count": 22,
     "metadata": {},
     "output_type": "execute_result"
    }
   ],
   "source": [
    "msg = email.message_from_bytes(data[0][1],_class = email.message.EmailMessage)\n"
   ]
  },
  {
   "cell_type": "code",
   "execution_count": 23,
   "metadata": {},
   "outputs": [
    {
     "data": {
      "text/plain": [
       "'=?UTF-8?B?0J3QuNC60LjRgtCwLCDQuNGB0L/QvtC70YzQt9GD0LnRgtC1INCy0YHQtSDQstC+0LfQvA==?=\\r\\n\\t=?UTF-8?B?0L7QttC90L7RgdGC0LggQW5kcm9pZA==?='"
      ]
     },
     "execution_count": 23,
     "metadata": {},
     "output_type": "execute_result"
    }
   ],
   "source": [
    "\n",
    "msg['Subject']"
   ]
  },
  {
   "cell_type": "code",
   "execution_count": 215,
   "metadata": {},
   "outputs": [],
   "source": [
    "status, messages = con.select(\"INBOX\")\n",
    "# number of top emails to fetch\n",
    "N = 3\n",
    "# total number of emails\n",
    "messages = int(messages[0])"
   ]
  },
  {
   "cell_type": "code",
   "execution_count": 228,
   "metadata": {},
   "outputs": [
    {
     "name": "stdout",
     "output_type": "stream",
     "text": [
      "Subject: Кунемкес\n",
      "From: romanyuknikita@mail.ru\n",
      "\n",
      "Не совсем срочно, но как сможете, сделайте учумус\n",
      " \n",
      " \n",
      "сделайте учумус\n",
      "====================================================================================================\n",
      "Subject: Кукуха\n",
      "From: romanyuknikita@mail.ru\n",
      "\n",
      "Здравствуйте, вот тут такая проблема, я еблан, решите до завтра\n",
      " \n",
      " \n",
      "Задача неопределена\n",
      "====================================================================================================\n",
      "Subject: Эссэ_Русский14_04.docx\n",
      "From: romanyuknikita@mail.ru\n",
      "\n",
      "Слышь ебать, сделай вот такое вот говно\n",
      " \n",
      "ебать, сделай вот такое вот говно\n",
      "====================================================================================================\n"
     ]
    }
   ],
   "source": [
    "for i in range(messages, messages-N, -1):\n",
    "    # fetch the email message by ID\n",
    "    res, msg = con.fetch(str(i), \"(RFC822)\")\n",
    "    for response in msg:\n",
    "        if isinstance(response, tuple):\n",
    "            # parse a bytes email into a message object\n",
    "            msg = email.message_from_bytes(response[1])\n",
    "            # decode the email subject\n",
    "            subject = msg['Subject']\n",
    "            if subject != None: \n",
    "                subject = decode_header(subject)[0][0]\n",
    "                if isinstance(subject, bytes):\n",
    "                    # if it's a bytes, decode to str\n",
    "    #                 print(subject)\n",
    "    #                 print(type(subject))\n",
    "                    try:\n",
    "                        subject = subject.decode('utf-8')\n",
    "                    except:\n",
    "                        subject = subject.decode('cp1251')\n",
    "                # email sender\n",
    "            \n",
    "            left_index = msg['From'].rfind('<') + 1\n",
    "            right_index = msg['From'].rfind('>')\n",
    "            from_ = msg['From'][left_index : right_index]\n",
    "            print(\"Subject:\", subject)\n",
    "            print(\"From:\", from_)\n",
    "            body_task = ''\n",
    "            if msg.is_multipart():\n",
    "                for part in msg.walk():\n",
    "                    content_type = part.get_content_type()\n",
    "                    content_disposition = str(part.get(\"Content-Disposition\"))\n",
    "                    try:\n",
    "                        body = part.get_payload(decode=True).decode()\n",
    "                    except:\n",
    "                        pass\n",
    "                    if content_type == \"text/plain\" and \"attachment\" not in content_disposition:\n",
    "                        body_task = body\n",
    "                        print(body)\n",
    "            else:\n",
    "                content_type = msg.get_content_type()\n",
    "                body = msg.get_payload(decode=True).decode()\n",
    "                if content_type == \"text/plain\":\n",
    "                    body_task = body\n",
    "                    print(body)\n",
    "            reporter = from_\n",
    "            implementor = user\n",
    "            report_date = parse(msg['Date']).date()\n",
    "            due_date = 'HZ'\n",
    "            status = 'To_do'\n",
    "            _id = 0\n",
    "            department = '1'\n",
    "            perevod = main(body_task)\n",
    "            if len(perevod)!=0:\n",
    "                problem_type = perevod[0]\n",
    "            else:\n",
    "                problem_type = 'Задача неопределена'\n",
    "            print(problem_type)\n",
    "            importance = 'Hz'\n",
    "            insert_task(subject, body_task, reporter,\n",
    "                             implementor, report_date, due_date, status, \n",
    "                             _id, department, problem_type, importance)\n",
    "            print(\"=\"*100)"
   ]
  },
  {
   "cell_type": "code",
   "execution_count": 174,
   "metadata": {},
   "outputs": [
    {
     "data": {
      "text/plain": [
       "'Sat, 17 Oct 2020 13:38:16 +0300'"
      ]
     },
     "execution_count": 174,
     "metadata": {},
     "output_type": "execute_result"
    }
   ],
   "source": [
    "msg['Date']"
   ]
  },
  {
   "cell_type": "code",
   "execution_count": 40,
   "metadata": {},
   "outputs": [
    {
     "data": {
      "text/plain": [
       "'Оповещение о безопасности учетной записи Майкрософт'"
      ]
     },
     "execution_count": 40,
     "metadata": {},
     "output_type": "execute_result"
    }
   ],
   "source": [
    "subject.decode('cp1251')"
   ]
  },
  {
   "cell_type": "code",
   "execution_count": 60,
   "metadata": {},
   "outputs": [
    {
     "name": "stdout",
     "output_type": "stream",
     "text": [
      "None\n"
     ]
    }
   ],
   "source": [
    "print(msg['Subject'])\n"
   ]
  },
  {
   "cell_type": "code",
   "execution_count": 211,
   "metadata": {},
   "outputs": [
    {
     "data": {
      "text/plain": [
       "[]"
      ]
     },
     "execution_count": 211,
     "metadata": {},
     "output_type": "execute_result"
    }
   ],
   "source": [
    "main(body_task)"
   ]
  },
  {
   "cell_type": "code",
   "execution_count": 173,
   "metadata": {},
   "outputs": [
    {
     "data": {
      "text/plain": [
       "'17 Oct 2020'"
      ]
     },
     "execution_count": 173,
     "metadata": {},
     "output_type": "execute_result"
    }
   ],
   "source": [
    "msg['Date']\n",
    "left_index = msg['Date'].find(' ') + 1\n",
    "right_index = msg['Date'].find(':')-3            \n",
    "date_ = msg['Date'][left_index : right_index]\n",
    "date_"
   ]
  },
  {
   "cell_type": "code",
   "execution_count": null,
   "metadata": {},
   "outputs": [],
   "source": []
  },
  {
   "cell_type": "code",
   "execution_count": 63,
   "metadata": {},
   "outputs": [
    {
     "ename": "AttributeError",
     "evalue": "'str' object has no attribute 'decode'",
     "output_type": "error",
     "traceback": [
      "\u001b[1;31m---------------------------------------------------------------------------\u001b[0m",
      "\u001b[1;31mAttributeError\u001b[0m                            Traceback (most recent call last)",
      "\u001b[1;32m<ipython-input-63-f865755ef3c6>\u001b[0m in \u001b[0;36m<module>\u001b[1;34m\u001b[0m\n\u001b[1;32m----> 1\u001b[1;33m \u001b[0mfrom_\u001b[0m\u001b[1;33m.\u001b[0m\u001b[0mdecode\u001b[0m\u001b[1;33m(\u001b[0m\u001b[1;33m)\u001b[0m\u001b[1;33m\u001b[0m\u001b[1;33m\u001b[0m\u001b[0m\n\u001b[0m",
      "\u001b[1;31mAttributeError\u001b[0m: 'str' object has no attribute 'decode'"
     ]
    }
   ],
   "source": [
    "from_.decode()"
   ]
  },
  {
   "cell_type": "code",
   "execution_count": 77,
   "metadata": {},
   "outputs": [
    {
     "name": "stdout",
     "output_type": "stream",
     "text": [
      "no-reply@youtube.com\n"
     ]
    }
   ],
   "source": [
    "ot = ''\n",
    "for k in range(msg['From'].find('<')+1,len(msg['From'])-1):\n",
    "    ot = ot + msg['From'][k]\n",
    "print(ot)"
   ]
  },
  {
   "cell_type": "code",
   "execution_count": 74,
   "metadata": {},
   "outputs": [
    {
     "name": "stdout",
     "output_type": "stream",
     "text": [
      "YouTube Music <no-reply@youtube.com>\n"
     ]
    }
   ],
   "source": [
    "print(msg['From'])"
   ]
  },
  {
   "cell_type": "code",
   "execution_count": null,
   "metadata": {},
   "outputs": [],
   "source": [
    "ot.rfind()"
   ]
  },
  {
   "cell_type": "code",
   "execution_count": 80,
   "metadata": {},
   "outputs": [
    {
     "data": {
      "text/plain": [
       "'no-reply@youtube.com'"
      ]
     },
     "execution_count": 80,
     "metadata": {},
     "output_type": "execute_result"
    }
   ],
   "source": [
    "left_index = msg['From'].rfind('<') + 1\n",
    "right_index = msg['From'].rfind('>')\n",
    "msg['From'][left_index : right_index]"
   ]
  },
  {
   "cell_type": "code",
   "execution_count": 101,
   "metadata": {},
   "outputs": [],
   "source": [
    "import sqlite3\n",
    " \n",
    "conn = sqlite3.connect(\"mydatabase.db\") # или :memory: чтобы сохранить в RAM\n",
    "cursor = conn.cursor()\n",
    " "
   ]
  },
  {
   "cell_type": "code",
   "execution_count": 102,
   "metadata": {},
   "outputs": [],
   "source": [
    "subject = '1'\n",
    "body = '1'\n",
    "reporter = '1'\n",
    "implementor = '1'\n",
    "report_date = '1'\n",
    "due_date = '1'\n",
    "status = '1'\n",
    "_id = '1'\n",
    "department = '1'\n",
    "problem_type = '1'"
   ]
  },
  {
   "cell_type": "code",
   "execution_count": 167,
   "metadata": {},
   "outputs": [],
   "source": [
    "def insert_task(subject, body, reporter,\n",
    "                            implementor, report_date, due_date, status, \n",
    "                            _id, department, problem_type, importance):\n",
    "    conn = sqlite3.connect(\"mydatabase.db\") # или :memory: чтобы сохранить в RAM\n",
    "    cursor = conn.cursor()\n",
    "    query = '''\n",
    "    INSERT INTO tasks\n",
    "                      VALUES ('{0}', '{1}', '{2}', '{3}', '{4}', '{5}', '{6}', '{7}', '{8}', '{9}', '{10}')\n",
    "    '''\n",
    "    cursor.execute(query.format(subject, body, reporter,\n",
    "                            implementor, report_date, due_date, status, \n",
    "                            _id, department, problem_type, importance))\n",
    "    conn.commit()\n",
    "    conn.close()"
   ]
  },
  {
   "cell_type": "code",
   "execution_count": 104,
   "metadata": {},
   "outputs": [
    {
     "data": {
      "text/plain": [
       "<sqlite3.Cursor at 0x17611d58960>"
      ]
     },
     "execution_count": 104,
     "metadata": {},
     "output_type": "execute_result"
    }
   ],
   "source": []
  },
  {
   "cell_type": "code",
   "execution_count": 217,
   "metadata": {},
   "outputs": [],
   "source": [
    "conn = sqlite3.connect(\"mydatabase.db\") # или :memory: чтобы сохранить в RAM\n",
    "cursor = conn.cursor()\n",
    "\n",
    "query = '''delete from tasks'''\n",
    "\n",
    "cursor.execute(query)\n",
    "conn.commit()"
   ]
  },
  {
   "cell_type": "code",
   "execution_count": 226,
   "metadata": {},
   "outputs": [],
   "source": [
    "conn = sqlite3.connect(\"mydatabase.db\") # или :memory: чтобы сохранить в RAM\n",
    "cursor = conn.cursor()\n",
    "\n",
    "query = '''drop table tasks'''\n",
    "\n",
    "cursor.execute(query)\n",
    "conn.commit()"
   ]
  },
  {
   "cell_type": "code",
   "execution_count": 227,
   "metadata": {},
   "outputs": [],
   "source": [
    "query = '''\n",
    "select\n",
    "    *\n",
    "from tasks\n",
    "'''"
   ]
  },
  {
   "cell_type": "code",
   "execution_count": 223,
   "metadata": {},
   "outputs": [
    {
     "name": "stdout",
     "output_type": "stream",
     "text": [
      "('Кунемкес', '\\nНе совсем срочно, но как сможете, сделайте учумус\\n\\xa0\\n\\xa0', 'romanyuknikita@mail.ru', 'vip.vasapupkin10@gmail.com', '2020-10-17', 'HZ', 'To_do', '1', '1', 'сделайте учумус', 'Hz')\n",
      "('Кукуха', '\\nЗдравствуйте,\\xa0вот тут такая проблема, я еблан, решите до завтра\\n\\xa0\\n\\xa0', 'romanyuknikita@mail.ru', 'vip.vasapupkin10@gmail.com', '2020-10-17', 'HZ', 'To_do', '1', '1', 'Задача неопределена', 'Hz')\n",
      "('Эссэ_Русский14_04.docx', '\\nСлышь ебать, сделай вот такое вот говно\\n\\xa0', 'romanyuknikita@mail.ru', 'vip.vasapupkin10@gmail.com', '2020-10-17', 'HZ', 'To_do', '1', '1', 'ебать, сделай вот такое вот говно', 'Hz')\n"
     ]
    }
   ],
   "source": [
    "for row in cursor.execute(query):\n",
    "    print(row)"
   ]
  },
  {
   "cell_type": "code",
   "execution_count": 144,
   "metadata": {},
   "outputs": [
    {
     "data": {
      "text/plain": [
       "'Эссэ_Русский14_04.docx'"
      ]
     },
     "execution_count": 144,
     "metadata": {},
     "output_type": "execute_result"
    }
   ],
   "source": [
    "\n"
   ]
  },
  {
   "cell_type": "code",
   "execution_count": 190,
   "metadata": {},
   "outputs": [],
   "source": [
    "def delete_punc(s):\n",
    "    regex = re.compile('[%s]' % re.escape(string.punctuation))\n",
    "    return regex.sub('', s)"
   ]
  },
  {
   "cell_type": "code",
   "execution_count": 191,
   "metadata": {},
   "outputs": [],
   "source": [
    "def to_normal(input_data):\n",
    "    import pymorphy2\n",
    "    morph = pymorphy2.MorphAnalyzer()\n",
    "    result = pd.DataFrame(columns=['Raw', 'Normalized', 'Tags'])\n",
    "    input_data = input_data.split()\n",
    "    for i in input_data:\n",
    "        parsed = morph.parse(i)\n",
    "        result = result.append({'Raw' : i, 'Normalized' : parsed[0].normal_form, 'Tags' : parsed[0].tag}, ignore_index=True)\n",
    "    return result"
   ]
  },
  {
   "cell_type": "code",
   "execution_count": 192,
   "metadata": {},
   "outputs": [],
   "source": [
    "def get_lines(body_task):\n",
    "    fileObj = body_task\n",
    "    result = []\n",
    "    for line in fileObj.split('\\n'):\n",
    "        result.append(line)\n",
    "    return result"
   ]
  },
  {
   "cell_type": "code",
   "execution_count": 193,
   "metadata": {},
   "outputs": [],
   "source": [
    "# удаление специальных символов из начала и конца\n",
    "\n",
    "def get_normal_form_of_prefix_line(lines):\n",
    "    special_symb = '!@#$%^&*\"\":* \\t'\n",
    "    result = []\n",
    "    for line in lines:\n",
    "        uk = 0;\n",
    "        for c in line:\n",
    "            if (c in special_symb):\n",
    "                uk += 1\n",
    "            else:\n",
    "                break\n",
    "        while (len(line) > 0 and line[-1] in special_symb):\n",
    "            line = line[:len(line) - 1]\n",
    "        if (uk != len(line)):\n",
    "            result.append(line[uk:])\n",
    "    return result\n"
   ]
  },
  {
   "cell_type": "code",
   "execution_count": 194,
   "metadata": {},
   "outputs": [],
   "source": [
    "def get_tasks(words_example, lines):\n",
    "    words = words_example\n",
    "    words.append(\":\")\n",
    "    digits = '0123456789'\n",
    "    next_line = False\n",
    "    tasks = []\n",
    "    for line in lines:\n",
    "        if (next_line):\n",
    "            tasks.append(line)\n",
    "            next_line = False\n",
    "            continue\n",
    "        if (len(line) > 3):\n",
    "            if ((line[0] in digits) and ((line[1] == '.') or (line[1] == ')'))):\n",
    "                tasks.append(line)\n",
    "            elif ((line[0] in digits) and (line[1] in digits) and ((line[2] == '.') or (line[2] == ')'))):\n",
    "                tasks.append(line)\n",
    "            else:\n",
    "                min_index = len(line)\n",
    "                max_index = -1\n",
    "                for word in words:\n",
    "                    if (line.find(word) != -1):\n",
    "                        index = line.find(word)\n",
    "                        if (min_index > index):\n",
    "                            max_index = index + len(word)\n",
    "                            min_index = index\n",
    "                if (max_index == -1):\n",
    "                    continue\n",
    "                if (max_index + 5 > len(line)):\n",
    "                    next_line = True\n",
    "                else:\n",
    "                    tasks.append(line[min_index:])\n",
    "    return tasks"
   ]
  },
  {
   "cell_type": "code",
   "execution_count": 195,
   "metadata": {},
   "outputs": [],
   "source": [
    "def main(body_task):\n",
    "    global re\n",
    "    global string\n",
    "    global codecs\n",
    "    global pd\n",
    "    import re\n",
    "    import string\n",
    "    import codecs\n",
    "    import pandas as pd\n",
    "    input_data = body_task\n",
    "    input_data = delete_punc(input_data)\n",
    "    normalized = to_normal(input_data)\n",
    "    \n",
    "    infinities = []\n",
    "    for i in normalized.index:\n",
    "        if ('INFN' in normalized.loc[i, 'Tags']) or ('impr' in normalized.loc[i, 'Tags']):\n",
    "            infinities.append(normalized.loc[i, 'Raw'])\n",
    "            \n",
    "    lines = get_lines(body_task)\n",
    "    lines = get_normal_form_of_prefix_line(lines)\n",
    "    tasks = get_tasks(infinities, lines)\n",
    "    return tasks"
   ]
  },
  {
   "cell_type": "code",
   "execution_count": null,
   "metadata": {},
   "outputs": [],
   "source": []
  },
  {
   "cell_type": "code",
   "execution_count": null,
   "metadata": {},
   "outputs": [],
   "source": []
  }
 ],
 "metadata": {
  "kernelspec": {
   "display_name": "Python 3",
   "language": "python",
   "name": "python3"
  },
  "language_info": {
   "codemirror_mode": {
    "name": "ipython",
    "version": 3
   },
   "file_extension": ".py",
   "mimetype": "text/x-python",
   "name": "python",
   "nbconvert_exporter": "python",
   "pygments_lexer": "ipython3",
   "version": "3.7.4"
  }
 },
 "nbformat": 4,
 "nbformat_minor": 2
}
